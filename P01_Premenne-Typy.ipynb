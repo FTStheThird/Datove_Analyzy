{
 "cells": [
  {
   "cell_type": "markdown",
   "id": "bce8f624",
   "metadata": {},
   "source": [
    "# 01. Výpis, tlač"
   ]
  },
  {
   "cell_type": "code",
   "execution_count": 2,
   "id": "bd37032d",
   "metadata": {},
   "outputs": [
    {
     "name": "stdout",
     "output_type": "stream",
     "text": [
      "It's alive\n"
     ]
    }
   ],
   "source": [
    "print(\"It's alive\");"
   ]
  },
  {
   "cell_type": "markdown",
   "id": "89057273",
   "metadata": {},
   "source": [
    "# 02. Premenné a dátové typy"
   ]
  },
  {
   "cell_type": "code",
   "execution_count": 1,
   "id": "902ddcdd",
   "metadata": {},
   "outputs": [
    {
     "name": "stdout",
     "output_type": "stream",
     "text": [
      "Ahoj Adam\n",
      "Ahoj Adam\n",
      "Do Vianoc je ešte 23 dni!\n"
     ]
    }
   ],
   "source": [
    "# Jednoriadkový komentár (poznámky, odkazy)\n",
    "# Retazec (string)\n",
    "menoKlient = \"Adam\";\n",
    "print(\"Ahoj\",menoKlient)\n",
    "print(\"Ahoj \" + menoKlient)\n",
    "\n",
    "pocetDniVianoce = 23\n",
    "print(\"Do Vianoc je ešte\", pocetDniVianoce, \"dni!\")"
   ]
  },
  {
   "cell_type": "code",
   "execution_count": null,
   "id": "72417c86",
   "metadata": {},
   "outputs": [],
   "source": []
  }
 ],
 "metadata": {
  "kernelspec": {
   "display_name": "Python 3 (ipykernel)",
   "language": "python",
   "name": "python3"
  },
  "language_info": {
   "codemirror_mode": {
    "name": "ipython",
    "version": 3
   },
   "file_extension": ".py",
   "mimetype": "text/x-python",
   "name": "python",
   "nbconvert_exporter": "python",
   "pygments_lexer": "ipython3",
   "version": "3.9.7"
  }
 },
 "nbformat": 4,
 "nbformat_minor": 5
}
