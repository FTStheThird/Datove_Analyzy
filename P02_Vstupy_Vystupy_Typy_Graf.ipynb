{
 "cells": [
  {
   "cell_type": "markdown",
   "id": "6c151da0",
   "metadata": {},
   "source": [
    "# 01. Práca so vstupom"
   ]
  },
  {
   "cell_type": "code",
   "execution_count": 2,
   "id": "2a50697d",
   "metadata": {},
   "outputs": [
    {
     "name": "stdout",
     "output_type": "stream",
     "text": [
      "Ako sa volas? ->Trojka\n"
     ]
    },
    {
     "data": {
      "text/plain": [
       "'Trojka'"
      ]
     },
     "execution_count": 2,
     "metadata": {},
     "output_type": "execute_result"
    }
   ],
   "source": [
    "input(\"Ako sa volas? ->\")"
   ]
  },
  {
   "cell_type": "markdown",
   "id": "53679149",
   "metadata": {},
   "source": [
    "# 02. Dátové typy (typy premenných)"
   ]
  },
  {
   "cell_type": "code",
   "execution_count": 4,
   "id": "a6529ebf",
   "metadata": {},
   "outputs": [
    {
     "name": "stdout",
     "output_type": "stream",
     "text": [
      "meno_klient ma typ premennej: <class 'str'>\n",
      "Ako sa volas? ->Trojka\n",
      "Ahoj Trojka\n"
     ]
    }
   ],
   "source": [
    "# str (string) - reťazec\n",
    "meno_klient = \"Adam\"\n",
    "print(\"meno_klient ma typ premennej:\", type(meno_klient))\n",
    "\n",
    "meno_klient = input(\"Ako sa volas? ->\")\n",
    "print(\"Ahoj\", meno_klient)\n",
    "\n"
   ]
  },
  {
   "cell_type": "code",
   "execution_count": 12,
   "id": "1d4a8690",
   "metadata": {},
   "outputs": [
    {
     "name": "stdout",
     "output_type": "stream",
     "text": [
      "<class 'int'>\n",
      "23\n"
     ]
    }
   ],
   "source": [
    "# int (integer) - celé čísla - Z\n",
    "vek_klient = 23\n",
    "print(type(vek_klient))\n",
    "print(vek_klient)"
   ]
  },
  {
   "cell_type": "code",
   "execution_count": 13,
   "id": "5c55d478",
   "metadata": {},
   "outputs": [
    {
     "name": "stdout",
     "output_type": "stream",
     "text": [
      "<class 'float'>\n",
      "2420.69\n"
     ]
    }
   ],
   "source": [
    "# float - reálne čísla - R - desatinná bodka\n",
    "mzda_klient = 2420.69\n",
    "print(type(mzda_klient))\n",
    "print(mzda_klient)"
   ]
  },
  {
   "cell_type": "code",
   "execution_count": 14,
   "id": "228bdc1a",
   "metadata": {},
   "outputs": [
    {
     "name": "stdout",
     "output_type": "stream",
     "text": [
      "<class 'bool'>\n",
      "True\n"
     ]
    }
   ],
   "source": [
    "# bool/booelan - logické hodnoty - true (pravda), false (nepravda)\n",
    "status_klient_zenaty = True\n",
    "print(type(status_klient_zenaty))\n",
    "print(status_klient_zenaty)"
   ]
  },
  {
   "cell_type": "code",
   "execution_count": 17,
   "id": "beaca870",
   "metadata": {},
   "outputs": [
    {
     "name": "stdout",
     "output_type": "stream",
     "text": [
      "<class 'NoneType'>\n",
      "None\n"
     ]
    }
   ],
   "source": [
    "registracie_klient = None\n",
    "print(type(registracie_klient))\n",
    "print(registracie_klient)"
   ]
  },
  {
   "cell_type": "code",
   "execution_count": 19,
   "id": "b0167c53",
   "metadata": {},
   "outputs": [
    {
     "name": "stdout",
     "output_type": "stream",
     "text": [
      "<class 'complex'>\n",
      "(3+3j)\n"
     ]
    }
   ],
   "source": [
    "# complex\n",
    "# 5 + 2i\n",
    "a = 3 + 3j\n",
    "print(type(a))\n",
    "print(a)"
   ]
  },
  {
   "cell_type": "code",
   "execution_count": 22,
   "id": "5787deb3",
   "metadata": {},
   "outputs": [
    {
     "name": "stdout",
     "output_type": "stream",
     "text": [
      "2021-12-08 17:17:51.266016\n",
      "aktuálny rok je >-> 2021\n"
     ]
    }
   ],
   "source": [
    "import datetime\n",
    "aktualny_datum_cas = datetime.datetime.now()\n",
    "print(aktualny_datum_cas)\n",
    "\n",
    "aktualny_rok = aktualny_datum_cas.year\n",
    "print(\"aktuálny rok je >->\", aktualny_rok)"
   ]
  },
  {
   "cell_type": "code",
   "execution_count": 24,
   "id": "41bd48c6",
   "metadata": {},
   "outputs": [
    {
     "name": "stdout",
     "output_type": "stream",
     "text": [
      "<class 'bytes'>\n",
      "b'Ahoj'\n"
     ]
    }
   ],
   "source": [
    "# bytes (bajty)\n",
    "a = b\"Ahoj\"\n",
    "print(type(a))\n",
    "print(a)"
   ]
  },
  {
   "cell_type": "code",
   "execution_count": 25,
   "id": "a916a394",
   "metadata": {},
   "outputs": [
    {
     "name": "stdout",
     "output_type": "stream",
     "text": [
      "<class 'memoryview'>\n",
      "<memory at 0x00000212EE0B31C0>\n"
     ]
    }
   ],
   "source": [
    "# memoryview (adresy v pamäti) 0-9 A-F, 10->A, 11->B, 15->F\n",
    "b = memoryview(bytes(2))\n",
    "print(type(b))\n",
    "print(b)"
   ]
  },
  {
   "cell_type": "markdown",
   "id": "8b16f8ca",
   "metadata": {},
   "source": [
    "# 03. Pretypovanie (casting)"
   ]
  },
  {
   "cell_type": "code",
   "execution_count": 32,
   "id": "23154a23",
   "metadata": {},
   "outputs": [
    {
     "name": "stdout",
     "output_type": "stream",
     "text": [
      "vyplata ma hodnotu--> 1956.23 , je to typ --> <class 'float'>\n",
      "vyplata_cele_cisla ma hodnotu --> 1956 , je to typ --> <class 'int'>\n",
      "vyplata_retazec ma hodnotu --> 1956.23 , je to typ --> <class 'str'>\n",
      "vyplata_bool ma hodnotu --> True , je to typ --> <class 'bool'>\n"
     ]
    }
   ],
   "source": [
    "vyplata = 1956.23\n",
    "print(\"vyplata ma hodnotu-->\", vyplata, \", je to typ -->\", type(vyplata))\n",
    "\n",
    "vyplata_cele_cisla = int(vyplata)\n",
    "print(\"vyplata_cele_cisla ma hodnotu -->\", vyplata_cele_cisla, \", je to typ -->\", type(vyplata_cele_cisla))\n",
    "\n",
    "vyplata_retazec = str(vyplata)\n",
    "print(\"vyplata_retazec ma hodnotu -->\", vyplata_retazec, \", je to typ -->\", type(vyplata_retazec))\n",
    "\n",
    "# 0, None, \"\" --> false\n",
    "vyplata_bool = bool(vyplata)\n",
    "print(\"vyplata_bool ma hodnotu -->\", vyplata_bool, \", je to typ -->\", type(vyplata_bool))"
   ]
  },
  {
   "cell_type": "markdown",
   "id": "7b28aade",
   "metadata": {},
   "source": [
    "# 04. Graf, knižnica numpy, matplotlib"
   ]
  },
  {
   "cell_type": "code",
   "execution_count": 52,
   "id": "167b3f18",
   "metadata": {},
   "outputs": [
    {
     "data": {
      "image/png": "[encoded data removed]",
      "text/plain": [
       "<Figure size 432x288 with 1 Axes>"
      ]
     },
     "metadata": {
      "needs_background": "light"
     },
     "output_type": "display_data"
    }
   ],
   "source": [
    "import numpy\n",
    "import matplotlib.pyplot as plt\n",
    "\n",
    "#Suradnice/koordinatory x a y\n",
    "x = numpy.arange(0, 8 * numpy.pi, 0.1)\n",
    "y = numpy.sin(x)\n",
    "\n",
    "# matplotlib.pyplot.plot(x,y)\n",
    "# matplotlib.pyplot.show()\n",
    "plt.title(\"Sinusový signál\")\n",
    "plt.plot(x,y)\n",
    "plt.show()"
   ]
  },
  {
   "cell_type": "code",
   "execution_count": null,
   "id": "334db20d",
   "metadata": {},
   "outputs": [],
   "source": []
  }
 ],
 "metadata": {
  "kernelspec": {
   "display_name": "Python 3 (ipykernel)",
   "language": "python",
   "name": "python3"
  },
  "language_info": {
   "codemirror_mode": {
    "name": "ipython",
    "version": 3
   },
   "file_extension": ".py",
   "mimetype": "text/x-python",
   "name": "python",
   "nbconvert_exporter": "python",
   "pygments_lexer": "ipython3",
   "version": "3.9.7"
  }
 },
 "nbformat": 4,
 "nbformat_minor": 5
}
