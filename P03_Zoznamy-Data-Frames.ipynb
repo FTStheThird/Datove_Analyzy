{
 "cells": [
  {
   "cell_type": "markdown",
   "id": "6cf382d0",
   "metadata": {},
   "source": [
    "# 01. Zoznam (List) -> C/C++, Java, C#, JavaScript Polia (Array)"
   ]
  },
  {
   "cell_type": "code",
   "execution_count": 11,
   "id": "8affda7d",
   "metadata": {},
   "outputs": [
    {
     "name": "stdout",
     "output_type": "stream",
     "text": [
      "<class 'list'>\n",
      "[]\n",
      "<class 'list'>\n",
      "['TV 8K Samsung', 'HDMI adapter', 'PS5', 'Nintendo Switch', 'Joystick NS']\n",
      "['mama', 'otec', 'babka', 'bratranec', 'stryko', 'syn']\n",
      "[1, 2, 3, 4, 5, 6, 7, 8, 9]\n",
      "[853.26, 931.94, 1200.98, 2514.78, 3854.17, 8643.69]\n",
      "[True, True, False, True, False]\n",
      "['janko', 35, True, 1.85, ['Python', 'C', 'JavaScript']]\n"
     ]
    }
   ],
   "source": [
    "nakupny_zoznam = []\n",
    "print(type(nakupny_zoznam))\n",
    "print(nakupny_zoznam)\n",
    "\n",
    "# Homogenne - vsade rovnake typy\n",
    "\n",
    "nakupny_zoznam = [\"TV 8K Samsung\", \"HDMI adapter\", \"PS5\", \"Nintendo Switch\", \"Joystick NS\"]\n",
    "print(type(nakupny_zoznam))\n",
    "print(nakupny_zoznam)\n",
    "\n",
    "rodina = [\"mama\", \"otec\", \"babka\", \"bratranec\", \"stryko\", \"syn\"]\n",
    "print(rodina)\n",
    "\n",
    "ciselny_zoznam = [1,2,3,4,5,6,7,8,9]\n",
    "print(ciselny_zoznam)\n",
    "\n",
    "mzdy_zamestnanci = [853.26, 931.94, 1200.98, 2514.78, 3854.17, 8643.69]\n",
    "print(mzdy_zamestnanci)\n",
    "\n",
    "suhlasy_pouzivatelov_gdpr = [True, True, False, True, False]\n",
    "print(suhlasy_pouzivatelov_gdpr)\n",
    "\n",
    "# Heterogenne - vsade rozne typy\n",
    "janko_hrasko = [\"janko\", 35, True, 1.85, [\"Python\",\"C\",\"JavaScript\"]]\n",
    "print(janko_hrasko)\n"
   ]
  },
  {
   "cell_type": "markdown",
   "id": "da490479",
   "metadata": {},
   "source": [
    "# 02. Jupyter_témy_(themes)"
   ]
  },
  {
   "cell_type": "code",
   "execution_count": null,
   "id": "0f06c903",
   "metadata": {},
   "outputs": [],
   "source": [
    "pip install jupyterthemes\n",
    "#onedork, monokai, grade3, solarizedl\n",
    "jt -t <tema>\n",
    "\n",
    "# Obnovenie do pôvodného stavu (restore)\n",
    "!jt -r"
   ]
  },
  {
   "cell_type": "markdown",
   "id": "a362cfaa",
   "metadata": {},
   "source": [
    "# 03. Práca_so_zoznamom\n"
   ]
  },
  {
   "cell_type": "code",
   "execution_count": 24,
   "id": "b7bc934d",
   "metadata": {},
   "outputs": [
    {
     "name": "stdout",
     "output_type": "stream",
     "text": [
      "['TV 8K Samsung', 'HDMI adapter', 'PS5', 'Nintendo Switch', 'Joystick NS']\n",
      "1. položka/0. index --> TV 8K Samsung\n",
      "2. položka/1. index --> HDMI adapter\n",
      "Posledná položka/-1. index --> Joystick NS\n",
      "Predosledná položka/-2. index --> Nintendo Switch\n",
      "počet položiek --> 5\n",
      "Posledná položka/-1. index --> Joystick NS\n",
      "Predosledná položka/-2. index --> Nintendo Switch\n"
     ]
    }
   ],
   "source": [
    "nakupny_zoznam = [\"TV 8K Samsung\", \"HDMI adapter\", \"PS5\", \"Nintendo Switch\", \"Joystick NS\"]\n",
    "print(nakupny_zoznam) \n",
    "# Index\n",
    "print(\"1. položka/0. index -->\", nakupny_zoznam[0])\n",
    "print(\"2. položka/1. index -->\", nakupny_zoznam[1])\n",
    "print(\"Posledná položka/-1. index -->\", nakupny_zoznam[-1])\n",
    "print(\"Predosledná položka/-2. index -->\", nakupny_zoznam[-2])\n",
    "\n",
    "print(\"počet položiek -->\", len(nakupny_zoznam))\n",
    "print(\"Posledná položka/-1. index -->\", nakupny_zoznam[len(nakupny_zoznam)-1])\n",
    "print(\"Predosledná položka/-2. index -->\", nakupny_zoznam[len(nakupny_zoznam)-2])"
   ]
  },
  {
   "cell_type": "markdown",
   "id": "6f4aa0a4",
   "metadata": {},
   "source": [
    "# 04. Filozofia_Python"
   ]
  },
  {
   "cell_type": "code",
   "execution_count": 29,
   "id": "d53f282f",
   "metadata": {},
   "outputs": [],
   "source": [
    "import this"
   ]
  },
  {
   "cell_type": "markdown",
   "id": "8b3a56d9",
   "metadata": {},
   "source": [
    "# 05. numpy polia (arrays)"
   ]
  },
  {
   "cell_type": "code",
   "execution_count": 32,
   "id": "82d3c42c",
   "metadata": {},
   "outputs": [
    {
     "name": "stdout",
     "output_type": "stream",
     "text": [
      "0     Adam\n",
      "1      Eva\n",
      "2    Peter\n",
      "3     Fero\n",
      "dtype: object\n"
     ]
    }
   ],
   "source": [
    "import numpy\n",
    "import pandas\n",
    "\n",
    "data = numpy.array([\"Adam\", \"Eva\", \"Peter\",\"Fero\"])\n",
    "rady = pandas.Series(data)\n",
    "\n",
    "print(rady)"
   ]
  },
  {
   "cell_type": "code",
   "execution_count": 41,
   "id": "a603123f",
   "metadata": {},
   "outputs": [
    {
     "name": "stdout",
     "output_type": "stream",
     "text": [
      "           Meno  Vek\n",
      "general    Adam   18\n",
      "nacelnik    Eva   20\n",
      "rotny     Peter   16\n",
      "porucik    Fero   36\n"
     ]
    },
    {
     "data": {
      "text/html": [
       "<div>\n",
       "<style scoped>\n",
       "    .dataframe tbody tr th:only-of-type {\n",
       "        vertical-align: middle;\n",
       "    }\n",
       "\n",
       "    .dataframe tbody tr th {\n",
       "        vertical-align: top;\n",
       "    }\n",
       "\n",
       "    .dataframe thead th {\n",
       "        text-align: right;\n",
       "    }\n",
       "</style>\n",
       "<table border=\"1\" class=\"dataframe\">\n",
       "  <thead>\n",
       "    <tr style=\"text-align: right;\">\n",
       "      <th></th>\n",
       "      <th>Meno</th>\n",
       "      <th>Vek</th>\n",
       "    </tr>\n",
       "  </thead>\n",
       "  <tbody>\n",
       "    <tr>\n",
       "      <th>general</th>\n",
       "      <td>Adam</td>\n",
       "      <td>18</td>\n",
       "    </tr>\n",
       "    <tr>\n",
       "      <th>nacelnik</th>\n",
       "      <td>Eva</td>\n",
       "      <td>20</td>\n",
       "    </tr>\n",
       "    <tr>\n",
       "      <th>rotny</th>\n",
       "      <td>Peter</td>\n",
       "      <td>16</td>\n",
       "    </tr>\n",
       "    <tr>\n",
       "      <th>porucik</th>\n",
       "      <td>Fero</td>\n",
       "      <td>36</td>\n",
       "    </tr>\n",
       "  </tbody>\n",
       "</table>\n",
       "</div>"
      ],
      "text/plain": [
       "           Meno  Vek\n",
       "general    Adam   18\n",
       "nacelnik    Eva   20\n",
       "rotny     Peter   16\n",
       "porucik    Fero   36"
      ]
     },
     "execution_count": 41,
     "metadata": {},
     "output_type": "execute_result"
    }
   ],
   "source": [
    "data_pouzivatelia = {\"Meno\":[\"Adam\", \"Eva\", \"Peter\",\"Fero\"], \"Vek\":[18, 20, 16, 36]}\n",
    "data_frame = pandas.DataFrame(data_pouzivatelia, index = [\"general\",\"nacelnik\",\"rotny\",\"porucik\"])\n",
    "print(data_frame)\n",
    "data_frame"
   ]
  },
  {
   "cell_type": "markdown",
   "id": "3982045e",
   "metadata": {},
   "source": [
    "# 06. Čiarový graf"
   ]
  },
  {
   "cell_type": "code",
   "execution_count": 57,
   "id": "8203af82",
   "metadata": {},
   "outputs": [
    {
     "data": {
      "text/plain": [
       "Text(3.5, 6, 'Profit')"
      ]
     },
     "execution_count": 57,
     "metadata": {},
     "output_type": "execute_result"
    },
    {
     "data": {
      "image/png": "[encoded data removed]",
      "text/plain": [
       "<Figure size 432x288 with 1 Axes>"
      ]
     },
     "metadata": {
      "needs_background": "light"
     },
     "output_type": "display_data"
    }
   ],
   "source": [
    "import numpy as np\n",
    "from matplotlib import pyplot as plt\n",
    "\n",
    "x = np.arange(0,5)\n",
    "y = x ^ 2\n",
    "\n",
    "plt.title(\"Bitcoin cena ↗\")\n",
    "plt.xlabel(\"Cas\")\n",
    "plt.ylabel(\"Cena\")\n",
    "plt.plot(x,y)\n",
    "\n",
    "plt.annotate(xy=[1,3.25], text= \"Rastieme\")\n",
    "plt.annotate(xy=[2,0], text= \"Krachujeme\")\n",
    "plt.annotate(xy=[3.5,6], text= \"Profit\")"
   ]
  },
  {
   "cell_type": "code",
   "execution_count": null,
   "id": "cf0539dd",
   "metadata": {},
   "outputs": [],
   "source": []
  }
 ],
 "metadata": {
  "kernelspec": {
   "display_name": "Python 3 (ipykernel)",
   "language": "python",
   "name": "python3"
  },
  "language_info": {
   "codemirror_mode": {
    "name": "ipython",
    "version": 3
   },
   "file_extension": ".py",
   "mimetype": "text/x-python",
   "name": "python",
   "nbconvert_exporter": "python",
   "pygments_lexer": "ipython3",
   "version": "3.9.7"
  }
 },
 "nbformat": 4,
 "nbformat_minor": 5
}
